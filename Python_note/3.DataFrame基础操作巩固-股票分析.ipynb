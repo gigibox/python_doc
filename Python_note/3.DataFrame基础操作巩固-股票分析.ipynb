{
 "cells": [
  {
   "attachments": {
    "log.jpg": {
     "image/jpeg": "[encoded data removed]"
    }
   },
   "cell_type": "markdown",
   "metadata": {},
   "source": [
    "![log.jpg](attachment:log.jpg)"
   ]
  },
  {
   "cell_type": "markdown",
   "metadata": {},
   "source": [
    "- tushare财经数据接口包\n",
    "    - pip install tushare\n",
    "    - 作用：提供相关指定的财经数据"
   ]
  },
  {
   "cell_type": "code",
   "execution_count": 7,
   "metadata": {},
   "outputs": [],
   "source": [
    "import tushare as ts\n",
    "import pandas as pd"
   ]
  },
  {
   "cell_type": "code",
   "execution_count": 8,
   "metadata": {
    "collapsed": true
   },
   "outputs": [
    {
     "name": "stdout",
     "output_type": "stream",
     "text": [
      "本接口即将停止更新，请尽快使用Pro版接口：https://tushare.pro/document/2\n"
     ]
    },
    {
     "name": "stderr",
     "output_type": "stream",
     "text": [
      "/Users/zhangxiaobo/opt/arm-anaconda/anaconda3/lib/python3.9/site-packages/tushare/stock/trading.py:706: FutureWarning: The frame.append method is deprecated and will be removed from pandas in a future version. Use pandas.concat instead.\n",
      "  data = data.append(_get_k_data(url, dataflag,\n",
      "/Users/zhangxiaobo/opt/arm-anaconda/anaconda3/lib/python3.9/site-packages/tushare/stock/trading.py:706: FutureWarning: The frame.append method is deprecated and will be removed from pandas in a future version. Use pandas.concat instead.\n",
      "  data = data.append(_get_k_data(url, dataflag,\n",
      "/Users/zhangxiaobo/opt/arm-anaconda/anaconda3/lib/python3.9/site-packages/tushare/stock/trading.py:706: FutureWarning: The frame.append method is deprecated and will be removed from pandas in a future version. Use pandas.concat instead.\n",
      "  data = data.append(_get_k_data(url, dataflag,\n",
      "/Users/zhangxiaobo/opt/arm-anaconda/anaconda3/lib/python3.9/site-packages/tushare/stock/trading.py:706: FutureWarning: The frame.append method is deprecated and will be removed from pandas in a future version. Use pandas.concat instead.\n",
      "  data = data.append(_get_k_data(url, dataflag,\n",
      "/Users/zhangxiaobo/opt/arm-anaconda/anaconda3/lib/python3.9/site-packages/tushare/stock/trading.py:706: FutureWarning: The frame.append method is deprecated and will be removed from pandas in a future version. Use pandas.concat instead.\n",
      "  data = data.append(_get_k_data(url, dataflag,\n"
     ]
    },
    {
     "data": {
      "text/html": [
       "<div>\n",
       "<style scoped>\n",
       "    .dataframe tbody tr th:only-of-type {\n",
       "        vertical-align: middle;\n",
       "    }\n",
       "\n",
       "    .dataframe tbody tr th {\n",
       "        vertical-align: top;\n",
       "    }\n",
       "\n",
       "    .dataframe thead th {\n",
       "        text-align: right;\n",
       "    }\n",
       "</style>\n",
       "<table border=\"1\" class=\"dataframe\">\n",
       "  <thead>\n",
       "    <tr style=\"text-align: right;\">\n",
       "      <th></th>\n",
       "      <th>date</th>\n",
       "      <th>open</th>\n",
       "      <th>close</th>\n",
       "      <th>high</th>\n",
       "      <th>low</th>\n",
       "      <th>volume</th>\n",
       "      <th>code</th>\n",
       "    </tr>\n",
       "  </thead>\n",
       "  <tbody>\n",
       "    <tr>\n",
       "      <th>0</th>\n",
       "      <td>2015-01-05</td>\n",
       "      <td>50.007</td>\n",
       "      <td>61.734</td>\n",
       "      <td>63.298</td>\n",
       "      <td>49.161</td>\n",
       "      <td>94515.0</td>\n",
       "      <td>600519</td>\n",
       "    </tr>\n",
       "    <tr>\n",
       "      <th>1</th>\n",
       "      <td>2015-01-06</td>\n",
       "      <td>59.443</td>\n",
       "      <td>57.471</td>\n",
       "      <td>61.771</td>\n",
       "      <td>55.825</td>\n",
       "      <td>55020.0</td>\n",
       "      <td>600519</td>\n",
       "    </tr>\n",
       "    <tr>\n",
       "      <th>2</th>\n",
       "      <td>2015-01-07</td>\n",
       "      <td>55.843</td>\n",
       "      <td>53.025</td>\n",
       "      <td>58.989</td>\n",
       "      <td>50.343</td>\n",
       "      <td>54797.0</td>\n",
       "      <td>600519</td>\n",
       "    </tr>\n",
       "    <tr>\n",
       "      <th>3</th>\n",
       "      <td>2015-01-08</td>\n",
       "      <td>53.989</td>\n",
       "      <td>51.952</td>\n",
       "      <td>54.461</td>\n",
       "      <td>50.480</td>\n",
       "      <td>40525.0</td>\n",
       "      <td>600519</td>\n",
       "    </tr>\n",
       "    <tr>\n",
       "      <th>4</th>\n",
       "      <td>2015-01-09</td>\n",
       "      <td>50.716</td>\n",
       "      <td>50.634</td>\n",
       "      <td>55.598</td>\n",
       "      <td>50.452</td>\n",
       "      <td>53982.0</td>\n",
       "      <td>600519</td>\n",
       "    </tr>\n",
       "    <tr>\n",
       "      <th>...</th>\n",
       "      <td>...</td>\n",
       "      <td>...</td>\n",
       "      <td>...</td>\n",
       "      <td>...</td>\n",
       "      <td>...</td>\n",
       "      <td>...</td>\n",
       "      <td>...</td>\n",
       "    </tr>\n",
       "    <tr>\n",
       "      <th>2024</th>\n",
       "      <td>2023-04-28</td>\n",
       "      <td>1763.010</td>\n",
       "      <td>1760.520</td>\n",
       "      <td>1782.770</td>\n",
       "      <td>1753.970</td>\n",
       "      <td>26225.0</td>\n",
       "      <td>600519</td>\n",
       "    </tr>\n",
       "    <tr>\n",
       "      <th>2025</th>\n",
       "      <td>2023-05-04</td>\n",
       "      <td>1769.000</td>\n",
       "      <td>1749.900</td>\n",
       "      <td>1777.670</td>\n",
       "      <td>1736.000</td>\n",
       "      <td>27466.0</td>\n",
       "      <td>600519</td>\n",
       "    </tr>\n",
       "    <tr>\n",
       "      <th>2026</th>\n",
       "      <td>2023-05-05</td>\n",
       "      <td>1766.000</td>\n",
       "      <td>1750.000</td>\n",
       "      <td>1766.000</td>\n",
       "      <td>1736.390</td>\n",
       "      <td>20714.0</td>\n",
       "      <td>600519</td>\n",
       "    </tr>\n",
       "    <tr>\n",
       "      <th>2027</th>\n",
       "      <td>2023-05-08</td>\n",
       "      <td>1768.320</td>\n",
       "      <td>1720.520</td>\n",
       "      <td>1769.000</td>\n",
       "      <td>1717.170</td>\n",
       "      <td>33171.0</td>\n",
       "      <td>600519</td>\n",
       "    </tr>\n",
       "    <tr>\n",
       "      <th>2028</th>\n",
       "      <td>2023-05-09</td>\n",
       "      <td>1715.000</td>\n",
       "      <td>1722.000</td>\n",
       "      <td>1739.980</td>\n",
       "      <td>1707.070</td>\n",
       "      <td>29378.0</td>\n",
       "      <td>600519</td>\n",
       "    </tr>\n",
       "  </tbody>\n",
       "</table>\n",
       "<p>2029 rows × 7 columns</p>\n",
       "</div>"
      ],
      "text/plain": [
       "            date      open     close      high       low   volume    code\n",
       "0     2015-01-05    50.007    61.734    63.298    49.161  94515.0  600519\n",
       "1     2015-01-06    59.443    57.471    61.771    55.825  55020.0  600519\n",
       "2     2015-01-07    55.843    53.025    58.989    50.343  54797.0  600519\n",
       "3     2015-01-08    53.989    51.952    54.461    50.480  40525.0  600519\n",
       "4     2015-01-09    50.716    50.634    55.598    50.452  53982.0  600519\n",
       "...          ...       ...       ...       ...       ...      ...     ...\n",
       "2024  2023-04-28  1763.010  1760.520  1782.770  1753.970  26225.0  600519\n",
       "2025  2023-05-04  1769.000  1749.900  1777.670  1736.000  27466.0  600519\n",
       "2026  2023-05-05  1766.000  1750.000  1766.000  1736.390  20714.0  600519\n",
       "2027  2023-05-08  1768.320  1720.520  1769.000  1717.170  33171.0  600519\n",
       "2028  2023-05-09  1715.000  1722.000  1739.980  1707.070  29378.0  600519\n",
       "\n",
       "[2029 rows x 7 columns]"
      ]
     },
     "execution_count": 8,
     "metadata": {},
     "output_type": "execute_result"
    }
   ],
   "source": [
    "data = ts.get_k_data(code='600519',start='2015-01')\n",
    "data"
   ]
  },
  {
   "cell_type": "code",
   "execution_count": 9,
   "metadata": {},
   "outputs": [],
   "source": [
    "#如何将dataFrame中的数据存储到文件\n",
    "data.to_csv('maotai.csv')"
   ]
  },
  {
   "cell_type": "code",
   "execution_count": 10,
   "metadata": {
    "collapsed": true
   },
   "outputs": [
    {
     "data": {
      "text/html": [
       "<div>\n",
       "<style scoped>\n",
       "    .dataframe tbody tr th:only-of-type {\n",
       "        vertical-align: middle;\n",
       "    }\n",
       "\n",
       "    .dataframe tbody tr th {\n",
       "        vertical-align: top;\n",
       "    }\n",
       "\n",
       "    .dataframe thead th {\n",
       "        text-align: right;\n",
       "    }\n",
       "</style>\n",
       "<table border=\"1\" class=\"dataframe\">\n",
       "  <thead>\n",
       "    <tr style=\"text-align: right;\">\n",
       "      <th></th>\n",
       "      <th>Unnamed: 0</th>\n",
       "      <th>date</th>\n",
       "      <th>open</th>\n",
       "      <th>close</th>\n",
       "      <th>high</th>\n",
       "      <th>low</th>\n",
       "      <th>volume</th>\n",
       "      <th>code</th>\n",
       "    </tr>\n",
       "  </thead>\n",
       "  <tbody>\n",
       "    <tr>\n",
       "      <th>0</th>\n",
       "      <td>0</td>\n",
       "      <td>2015-01-05</td>\n",
       "      <td>50.007</td>\n",
       "      <td>61.734</td>\n",
       "      <td>63.298</td>\n",
       "      <td>49.161</td>\n",
       "      <td>94515.0</td>\n",
       "      <td>600519</td>\n",
       "    </tr>\n",
       "    <tr>\n",
       "      <th>1</th>\n",
       "      <td>1</td>\n",
       "      <td>2015-01-06</td>\n",
       "      <td>59.443</td>\n",
       "      <td>57.471</td>\n",
       "      <td>61.771</td>\n",
       "      <td>55.825</td>\n",
       "      <td>55020.0</td>\n",
       "      <td>600519</td>\n",
       "    </tr>\n",
       "    <tr>\n",
       "      <th>2</th>\n",
       "      <td>2</td>\n",
       "      <td>2015-01-07</td>\n",
       "      <td>55.843</td>\n",
       "      <td>53.025</td>\n",
       "      <td>58.989</td>\n",
       "      <td>50.343</td>\n",
       "      <td>54797.0</td>\n",
       "      <td>600519</td>\n",
       "    </tr>\n",
       "    <tr>\n",
       "      <th>3</th>\n",
       "      <td>3</td>\n",
       "      <td>2015-01-08</td>\n",
       "      <td>53.989</td>\n",
       "      <td>51.952</td>\n",
       "      <td>54.461</td>\n",
       "      <td>50.480</td>\n",
       "      <td>40525.0</td>\n",
       "      <td>600519</td>\n",
       "    </tr>\n",
       "    <tr>\n",
       "      <th>4</th>\n",
       "      <td>4</td>\n",
       "      <td>2015-01-09</td>\n",
       "      <td>50.716</td>\n",
       "      <td>50.634</td>\n",
       "      <td>55.598</td>\n",
       "      <td>50.452</td>\n",
       "      <td>53982.0</td>\n",
       "      <td>600519</td>\n",
       "    </tr>\n",
       "    <tr>\n",
       "      <th>...</th>\n",
       "      <td>...</td>\n",
       "      <td>...</td>\n",
       "      <td>...</td>\n",
       "      <td>...</td>\n",
       "      <td>...</td>\n",
       "      <td>...</td>\n",
       "      <td>...</td>\n",
       "      <td>...</td>\n",
       "    </tr>\n",
       "    <tr>\n",
       "      <th>2024</th>\n",
       "      <td>2024</td>\n",
       "      <td>2023-04-28</td>\n",
       "      <td>1763.010</td>\n",
       "      <td>1760.520</td>\n",
       "      <td>1782.770</td>\n",
       "      <td>1753.970</td>\n",
       "      <td>26225.0</td>\n",
       "      <td>600519</td>\n",
       "    </tr>\n",
       "    <tr>\n",
       "      <th>2025</th>\n",
       "      <td>2025</td>\n",
       "      <td>2023-05-04</td>\n",
       "      <td>1769.000</td>\n",
       "      <td>1749.900</td>\n",
       "      <td>1777.670</td>\n",
       "      <td>1736.000</td>\n",
       "      <td>27466.0</td>\n",
       "      <td>600519</td>\n",
       "    </tr>\n",
       "    <tr>\n",
       "      <th>2026</th>\n",
       "      <td>2026</td>\n",
       "      <td>2023-05-05</td>\n",
       "      <td>1766.000</td>\n",
       "      <td>1750.000</td>\n",
       "      <td>1766.000</td>\n",
       "      <td>1736.390</td>\n",
       "      <td>20714.0</td>\n",
       "      <td>600519</td>\n",
       "    </tr>\n",
       "    <tr>\n",
       "      <th>2027</th>\n",
       "      <td>2027</td>\n",
       "      <td>2023-05-08</td>\n",
       "      <td>1768.320</td>\n",
       "      <td>1720.520</td>\n",
       "      <td>1769.000</td>\n",
       "      <td>1717.170</td>\n",
       "      <td>33171.0</td>\n",
       "      <td>600519</td>\n",
       "    </tr>\n",
       "    <tr>\n",
       "      <th>2028</th>\n",
       "      <td>2028</td>\n",
       "      <td>2023-05-09</td>\n",
       "      <td>1715.000</td>\n",
       "      <td>1722.000</td>\n",
       "      <td>1739.980</td>\n",
       "      <td>1707.070</td>\n",
       "      <td>29378.0</td>\n",
       "      <td>600519</td>\n",
       "    </tr>\n",
       "  </tbody>\n",
       "</table>\n",
       "<p>2029 rows × 8 columns</p>\n",
       "</div>"
      ],
      "text/plain": [
       "      Unnamed: 0        date      open     close      high       low   volume  \\\n",
       "0              0  2015-01-05    50.007    61.734    63.298    49.161  94515.0   \n",
       "1              1  2015-01-06    59.443    57.471    61.771    55.825  55020.0   \n",
       "2              2  2015-01-07    55.843    53.025    58.989    50.343  54797.0   \n",
       "3              3  2015-01-08    53.989    51.952    54.461    50.480  40525.0   \n",
       "4              4  2015-01-09    50.716    50.634    55.598    50.452  53982.0   \n",
       "...          ...         ...       ...       ...       ...       ...      ...   \n",
       "2024        2024  2023-04-28  1763.010  1760.520  1782.770  1753.970  26225.0   \n",
       "2025        2025  2023-05-04  1769.000  1749.900  1777.670  1736.000  27466.0   \n",
       "2026        2026  2023-05-05  1766.000  1750.000  1766.000  1736.390  20714.0   \n",
       "2027        2027  2023-05-08  1768.320  1720.520  1769.000  1717.170  33171.0   \n",
       "2028        2028  2023-05-09  1715.000  1722.000  1739.980  1707.070  29378.0   \n",
       "\n",
       "        code  \n",
       "0     600519  \n",
       "1     600519  \n",
       "2     600519  \n",
       "3     600519  \n",
       "4     600519  \n",
       "...      ...  \n",
       "2024  600519  \n",
       "2025  600519  \n",
       "2026  600519  \n",
       "2027  600519  \n",
       "2028  600519  \n",
       "\n",
       "[2029 rows x 8 columns]"
      ]
     },
     "execution_count": 10,
     "metadata": {},
     "output_type": "execute_result"
    }
   ],
   "source": [
    "#如何将外部文件的数据读取到df\n",
    "df = pd.read_csv('maotai.csv')\n",
    "df"
   ]
  },
  {
   "cell_type": "code",
   "execution_count": 11,
   "metadata": {},
   "outputs": [],
   "source": [
    "#删除df中Unnamed: 0列\n",
    "df.drop(columns='Unnamed: 0',inplace=True)"
   ]
  },
  {
   "cell_type": "code",
   "execution_count": 12,
   "metadata": {},
   "outputs": [
    {
     "data": {
      "text/html": [
       "<div>\n",
       "<style scoped>\n",
       "    .dataframe tbody tr th:only-of-type {\n",
       "        vertical-align: middle;\n",
       "    }\n",
       "\n",
       "    .dataframe tbody tr th {\n",
       "        vertical-align: top;\n",
       "    }\n",
       "\n",
       "    .dataframe thead th {\n",
       "        text-align: right;\n",
       "    }\n",
       "</style>\n",
       "<table border=\"1\" class=\"dataframe\">\n",
       "  <thead>\n",
       "    <tr style=\"text-align: right;\">\n",
       "      <th></th>\n",
       "      <th>date</th>\n",
       "      <th>open</th>\n",
       "      <th>close</th>\n",
       "      <th>high</th>\n",
       "      <th>low</th>\n",
       "      <th>volume</th>\n",
       "      <th>code</th>\n",
       "    </tr>\n",
       "  </thead>\n",
       "  <tbody>\n",
       "    <tr>\n",
       "      <th>0</th>\n",
       "      <td>2015-01-05</td>\n",
       "      <td>50.007</td>\n",
       "      <td>61.734</td>\n",
       "      <td>63.298</td>\n",
       "      <td>49.161</td>\n",
       "      <td>94515.0</td>\n",
       "      <td>600519</td>\n",
       "    </tr>\n",
       "    <tr>\n",
       "      <th>1</th>\n",
       "      <td>2015-01-06</td>\n",
       "      <td>59.443</td>\n",
       "      <td>57.471</td>\n",
       "      <td>61.771</td>\n",
       "      <td>55.825</td>\n",
       "      <td>55020.0</td>\n",
       "      <td>600519</td>\n",
       "    </tr>\n",
       "    <tr>\n",
       "      <th>2</th>\n",
       "      <td>2015-01-07</td>\n",
       "      <td>55.843</td>\n",
       "      <td>53.025</td>\n",
       "      <td>58.989</td>\n",
       "      <td>50.343</td>\n",
       "      <td>54797.0</td>\n",
       "      <td>600519</td>\n",
       "    </tr>\n",
       "  </tbody>\n",
       "</table>\n",
       "</div>"
      ],
      "text/plain": [
       "         date    open   close    high     low   volume    code\n",
       "0  2015-01-05  50.007  61.734  63.298  49.161  94515.0  600519\n",
       "1  2015-01-06  59.443  57.471  61.771  55.825  55020.0  600519\n",
       "2  2015-01-07  55.843  53.025  58.989  50.343  54797.0  600519"
      ]
     },
     "execution_count": 12,
     "metadata": {},
     "output_type": "execute_result"
    }
   ],
   "source": [
    "df.head(3)"
   ]
  },
  {
   "cell_type": "code",
   "execution_count": 13,
   "metadata": {},
   "outputs": [
    {
     "name": "stdout",
     "output_type": "stream",
     "text": [
      "<class 'pandas.core.frame.DataFrame'>\n",
      "RangeIndex: 2029 entries, 0 to 2028\n",
      "Data columns (total 7 columns):\n",
      " #   Column  Non-Null Count  Dtype  \n",
      "---  ------  --------------  -----  \n",
      " 0   date    2029 non-null   object \n",
      " 1   open    2029 non-null   float64\n",
      " 2   close   2029 non-null   float64\n",
      " 3   high    2029 non-null   float64\n",
      " 4   low     2029 non-null   float64\n",
      " 5   volume  2029 non-null   float64\n",
      " 6   code    2029 non-null   int64  \n",
      "dtypes: float64(5), int64(1), object(1)\n",
      "memory usage: 111.1+ KB\n"
     ]
    }
   ],
   "source": [
    "df.info()"
   ]
  },
  {
   "cell_type": "code",
   "execution_count": 14,
   "metadata": {},
   "outputs": [],
   "source": [
    "#date列数据类型转换成时间类型\n",
    "df['date'] = pd.to_datetime(df['date'])"
   ]
  },
  {
   "cell_type": "code",
   "execution_count": 15,
   "metadata": {
    "collapsed": true
   },
   "outputs": [
    {
     "name": "stdout",
     "output_type": "stream",
     "text": [
      "<class 'pandas.core.frame.DataFrame'>\n",
      "RangeIndex: 2029 entries, 0 to 2028\n",
      "Data columns (total 7 columns):\n",
      " #   Column  Non-Null Count  Dtype         \n",
      "---  ------  --------------  -----         \n",
      " 0   date    2029 non-null   datetime64[ns]\n",
      " 1   open    2029 non-null   float64       \n",
      " 2   close   2029 non-null   float64       \n",
      " 3   high    2029 non-null   float64       \n",
      " 4   low     2029 non-null   float64       \n",
      " 5   volume  2029 non-null   float64       \n",
      " 6   code    2029 non-null   int64         \n",
      "dtypes: datetime64[ns](1), float64(5), int64(1)\n",
      "memory usage: 111.1 KB\n"
     ]
    }
   ],
   "source": [
    "df.info()"
   ]
  },
  {
   "cell_type": "code",
   "execution_count": 16,
   "metadata": {},
   "outputs": [
    {
     "data": {
      "text/html": [
       "<div>\n",
       "<style scoped>\n",
       "    .dataframe tbody tr th:only-of-type {\n",
       "        vertical-align: middle;\n",
       "    }\n",
       "\n",
       "    .dataframe tbody tr th {\n",
       "        vertical-align: top;\n",
       "    }\n",
       "\n",
       "    .dataframe thead th {\n",
       "        text-align: right;\n",
       "    }\n",
       "</style>\n",
       "<table border=\"1\" class=\"dataframe\">\n",
       "  <thead>\n",
       "    <tr style=\"text-align: right;\">\n",
       "      <th></th>\n",
       "      <th>date</th>\n",
       "      <th>open</th>\n",
       "      <th>close</th>\n",
       "      <th>high</th>\n",
       "      <th>low</th>\n",
       "      <th>volume</th>\n",
       "      <th>code</th>\n",
       "    </tr>\n",
       "  </thead>\n",
       "  <tbody>\n",
       "    <tr>\n",
       "      <th>0</th>\n",
       "      <td>2015-01-05</td>\n",
       "      <td>50.007</td>\n",
       "      <td>61.734</td>\n",
       "      <td>63.298</td>\n",
       "      <td>49.161</td>\n",
       "      <td>94515.0</td>\n",
       "      <td>600519</td>\n",
       "    </tr>\n",
       "    <tr>\n",
       "      <th>1</th>\n",
       "      <td>2015-01-06</td>\n",
       "      <td>59.443</td>\n",
       "      <td>57.471</td>\n",
       "      <td>61.771</td>\n",
       "      <td>55.825</td>\n",
       "      <td>55020.0</td>\n",
       "      <td>600519</td>\n",
       "    </tr>\n",
       "  </tbody>\n",
       "</table>\n",
       "</div>"
      ],
      "text/plain": [
       "        date    open   close    high     low   volume    code\n",
       "0 2015-01-05  50.007  61.734  63.298  49.161  94515.0  600519\n",
       "1 2015-01-06  59.443  57.471  61.771  55.825  55020.0  600519"
      ]
     },
     "execution_count": 16,
     "metadata": {},
     "output_type": "execute_result"
    }
   ],
   "source": [
    "df.head(2)"
   ]
  },
  {
   "cell_type": "code",
   "execution_count": 18,
   "metadata": {},
   "outputs": [],
   "source": [
    "#将date列作为原数据的行索引\n",
    "df = df.set_index('date')"
   ]
  },
  {
   "cell_type": "code",
   "execution_count": 19,
   "metadata": {},
   "outputs": [
    {
     "data": {
      "text/html": [
       "<div>\n",
       "<style scoped>\n",
       "    .dataframe tbody tr th:only-of-type {\n",
       "        vertical-align: middle;\n",
       "    }\n",
       "\n",
       "    .dataframe tbody tr th {\n",
       "        vertical-align: top;\n",
       "    }\n",
       "\n",
       "    .dataframe thead th {\n",
       "        text-align: right;\n",
       "    }\n",
       "</style>\n",
       "<table border=\"1\" class=\"dataframe\">\n",
       "  <thead>\n",
       "    <tr style=\"text-align: right;\">\n",
       "      <th></th>\n",
       "      <th>open</th>\n",
       "      <th>close</th>\n",
       "      <th>high</th>\n",
       "      <th>low</th>\n",
       "      <th>volume</th>\n",
       "      <th>code</th>\n",
       "    </tr>\n",
       "    <tr>\n",
       "      <th>date</th>\n",
       "      <th></th>\n",
       "      <th></th>\n",
       "      <th></th>\n",
       "      <th></th>\n",
       "      <th></th>\n",
       "      <th></th>\n",
       "    </tr>\n",
       "  </thead>\n",
       "  <tbody>\n",
       "    <tr>\n",
       "      <th>2015-01-05</th>\n",
       "      <td>50.007</td>\n",
       "      <td>61.734</td>\n",
       "      <td>63.298</td>\n",
       "      <td>49.161</td>\n",
       "      <td>94515.0</td>\n",
       "      <td>600519</td>\n",
       "    </tr>\n",
       "    <tr>\n",
       "      <th>2015-01-06</th>\n",
       "      <td>59.443</td>\n",
       "      <td>57.471</td>\n",
       "      <td>61.771</td>\n",
       "      <td>55.825</td>\n",
       "      <td>55020.0</td>\n",
       "      <td>600519</td>\n",
       "    </tr>\n",
       "    <tr>\n",
       "      <th>2015-01-07</th>\n",
       "      <td>55.843</td>\n",
       "      <td>53.025</td>\n",
       "      <td>58.989</td>\n",
       "      <td>50.343</td>\n",
       "      <td>54797.0</td>\n",
       "      <td>600519</td>\n",
       "    </tr>\n",
       "  </tbody>\n",
       "</table>\n",
       "</div>"
      ],
      "text/plain": [
       "              open   close    high     low   volume    code\n",
       "date                                                       \n",
       "2015-01-05  50.007  61.734  63.298  49.161  94515.0  600519\n",
       "2015-01-06  59.443  57.471  61.771  55.825  55020.0  600519\n",
       "2015-01-07  55.843  53.025  58.989  50.343  54797.0  600519"
      ]
     },
     "execution_count": 19,
     "metadata": {},
     "output_type": "execute_result"
    }
   ],
   "source": [
    "df.head(3)"
   ]
  },
  {
   "cell_type": "markdown",
   "metadata": {},
   "source": [
    "### 需求：股票分析\n",
    "- 使用tushare包获取某股票的历史行情数据。\n",
    "- 输出该股票所有收盘比开盘上涨3%以上的日期。\n",
    "- 输出该股票所有开盘比前日收盘跌幅超过2%的日期。\n",
    "- 假如我从2015年1月1日开始，每月第一个交易日买入1手股票，每年最后一个交易日卖出所有股票，到今天为止，我的收益如何？"
   ]
  },
  {
   "cell_type": "markdown",
   "metadata": {},
   "source": [
    "- 输出该股票所有收盘比开盘上涨3%以上的日期"
   ]
  },
  {
   "cell_type": "code",
   "execution_count": 23,
   "metadata": {},
   "outputs": [
    {
     "data": {
      "text/plain": [
       "DatetimeIndex(['2015-01-05', '2015-01-15', '2015-01-20', '2015-01-21',\n",
       "               '2015-02-09', '2015-02-26', '2015-02-27', '2015-03-09',\n",
       "               '2015-03-11', '2015-03-16',\n",
       "               ...\n",
       "               '2022-02-09', '2022-03-01', '2022-04-12', '2022-06-10',\n",
       "               '2022-06-17', '2022-08-31', '2022-11-01', '2022-11-04',\n",
       "               '2022-11-15', '2023-01-05'],\n",
       "              dtype='datetime64[ns]', name='date', length=219, freq=None)"
      ]
     },
     "execution_count": 23,
     "metadata": {},
     "output_type": "execute_result"
    }
   ],
   "source": [
    "#伪代码：（收盘-开盘）/开盘 > 0.03\n",
    "ex = (df['close'] - df['open']) / df['open'] > 0.03\n",
    "ret = df.loc[ex] #取出ex中True对应的行数据（满足要求）\n",
    "ret.index"
   ]
  },
  {
   "cell_type": "markdown",
   "metadata": {},
   "source": [
    "- 输出该股票所有开盘比前日收盘跌幅超过2%的日期\n"
   ]
  },
  {
   "cell_type": "code",
   "execution_count": 27,
   "metadata": {
    "collapsed": true
   },
   "outputs": [
    {
     "data": {
      "text/plain": [
       "DatetimeIndex(['2015-01-06', '2015-01-07', '2015-01-09', '2015-01-19',\n",
       "               '2015-01-23', '2015-01-28', '2015-01-29', '2015-02-02',\n",
       "               '2015-03-03', '2015-03-05', '2015-03-25', '2015-04-20',\n",
       "               '2015-04-24', '2015-05-05', '2015-05-11', '2015-05-25',\n",
       "               '2015-06-10', '2015-07-01', '2015-07-03', '2015-07-07',\n",
       "               '2015-07-08', '2015-07-13', '2015-07-14', '2015-07-21',\n",
       "               '2015-07-27', '2015-08-03', '2015-08-17', '2015-08-21',\n",
       "               '2015-08-24', '2015-08-25', '2015-08-28', '2015-08-31',\n",
       "               '2015-09-01', '2015-09-02', '2015-09-07', '2015-09-10',\n",
       "               '2015-09-15', '2015-09-16', '2015-09-17', '2015-09-23',\n",
       "               '2015-09-28', '2015-09-29', '2015-11-16', '2015-12-03',\n",
       "               '2016-01-07', '2016-01-14', '2016-01-20', '2016-01-26',\n",
       "               '2016-02-03', '2016-02-15', '2016-05-12', '2017-11-17',\n",
       "               '2017-11-20', '2018-02-05', '2018-02-06', '2018-02-09',\n",
       "               '2018-03-23', '2018-03-28', '2018-07-11', '2018-10-08',\n",
       "               '2018-10-11', '2018-10-24', '2018-10-25', '2018-10-29',\n",
       "               '2018-10-30', '2018-12-10', '2019-05-06', '2019-05-08',\n",
       "               '2019-07-15', '2019-10-16', '2020-01-02', '2020-02-03',\n",
       "               '2020-03-13', '2020-03-23', '2020-10-26', '2021-02-26',\n",
       "               '2021-03-04', '2021-04-28', '2021-08-20', '2021-11-01',\n",
       "               '2022-03-14', '2022-03-15', '2022-03-28', '2022-10-13',\n",
       "               '2022-10-24', '2022-11-28', '2023-02-06'],\n",
       "              dtype='datetime64[ns]', name='date', freq=None)"
      ]
     },
     "execution_count": 27,
     "metadata": {},
     "output_type": "execute_result"
    }
   ],
   "source": [
    "#(开盘-前日收盘)/前日收盘 < -0.02\n",
    "ex = (df['open'] - df['close'].shift(1)) / df['close'].shift(1) < -0.02\n",
    "df.loc[ex].index"
   ]
  },
  {
   "cell_type": "markdown",
   "metadata": {},
   "source": [
    "- 假如张三从2020年1月1日开始，每月第一个交易日买入1手股票，每年最后一个交易日卖出所有股票，到今天为止，张三的收益如何？\n",
    "    - 规则：基于当天的收盘价售卖股票，当天的开盘价购买股票\n",
    "    - 一个完整的年需要买入多少次股票呢？\n",
    "        - 12次，一共购买1200只，单价:当天的开盘价\n",
    "    - 一个完整的年需要卖出几次股票呢？\n",
    "        - 1次，一次性卖出1200只股票，单价:当天的收盘价\n",
    "    - 特殊情况：\n",
    "        - 最终计算总收益的时候，需要将手里剩余股票的价值计算到总收益中\n",
    "            - 剩余股票的价值：\n",
    "                - 剩余股票数量 * 最后一天的收盘价"
   ]
  },
  {
   "cell_type": "code",
   "execution_count": 31,
   "metadata": {},
   "outputs": [
    {
     "data": {
      "text/html": [
       "<div>\n",
       "<style scoped>\n",
       "    .dataframe tbody tr th:only-of-type {\n",
       "        vertical-align: middle;\n",
       "    }\n",
       "\n",
       "    .dataframe tbody tr th {\n",
       "        vertical-align: top;\n",
       "    }\n",
       "\n",
       "    .dataframe thead th {\n",
       "        text-align: right;\n",
       "    }\n",
       "</style>\n",
       "<table border=\"1\" class=\"dataframe\">\n",
       "  <thead>\n",
       "    <tr style=\"text-align: right;\">\n",
       "      <th></th>\n",
       "      <th>open</th>\n",
       "      <th>close</th>\n",
       "      <th>high</th>\n",
       "      <th>low</th>\n",
       "      <th>volume</th>\n",
       "      <th>code</th>\n",
       "    </tr>\n",
       "    <tr>\n",
       "      <th>date</th>\n",
       "      <th></th>\n",
       "      <th></th>\n",
       "      <th></th>\n",
       "      <th></th>\n",
       "      <th></th>\n",
       "      <th></th>\n",
       "    </tr>\n",
       "  </thead>\n",
       "  <tbody>\n",
       "    <tr>\n",
       "      <th>2020-01-02</th>\n",
       "      <td>1048.097</td>\n",
       "      <td>1050.097</td>\n",
       "      <td>1065.157</td>\n",
       "      <td>1036.097</td>\n",
       "      <td>148099.0</td>\n",
       "      <td>600519</td>\n",
       "    </tr>\n",
       "    <tr>\n",
       "      <th>2020-01-03</th>\n",
       "      <td>1037.097</td>\n",
       "      <td>998.657</td>\n",
       "      <td>1037.097</td>\n",
       "      <td>996.997</td>\n",
       "      <td>130318.0</td>\n",
       "      <td>600519</td>\n",
       "    </tr>\n",
       "    <tr>\n",
       "      <th>2020-01-06</th>\n",
       "      <td>990.957</td>\n",
       "      <td>998.087</td>\n",
       "      <td>1012.997</td>\n",
       "      <td>987.397</td>\n",
       "      <td>63414.0</td>\n",
       "      <td>600519</td>\n",
       "    </tr>\n",
       "    <tr>\n",
       "      <th>2020-01-07</th>\n",
       "      <td>997.597</td>\n",
       "      <td>1014.627</td>\n",
       "      <td>1019.097</td>\n",
       "      <td>996.497</td>\n",
       "      <td>47853.0</td>\n",
       "      <td>600519</td>\n",
       "    </tr>\n",
       "    <tr>\n",
       "      <th>2020-01-08</th>\n",
       "      <td>1005.147</td>\n",
       "      <td>1008.237</td>\n",
       "      <td>1015.597</td>\n",
       "      <td>1002.677</td>\n",
       "      <td>25008.0</td>\n",
       "      <td>600519</td>\n",
       "    </tr>\n",
       "  </tbody>\n",
       "</table>\n",
       "</div>"
      ],
      "text/plain": [
       "                open     close      high       low    volume    code\n",
       "date                                                                \n",
       "2020-01-02  1048.097  1050.097  1065.157  1036.097  148099.0  600519\n",
       "2020-01-03  1037.097   998.657  1037.097   996.997  130318.0  600519\n",
       "2020-01-06   990.957   998.087  1012.997   987.397   63414.0  600519\n",
       "2020-01-07   997.597  1014.627  1019.097   996.497   47853.0  600519\n",
       "2020-01-08  1005.147  1008.237  1015.597  1002.677   25008.0  600519"
      ]
     },
     "execution_count": 31,
     "metadata": {},
     "output_type": "execute_result"
    }
   ],
   "source": [
    "#获取2020年之后的数据\n",
    "new_df = df['2020':]\n",
    "new_df.head(5)"
   ]
  },
  {
   "cell_type": "code",
   "execution_count": 33,
   "metadata": {},
   "outputs": [
    {
     "data": {
      "text/plain": [
       "6933019.6"
      ]
     },
     "execution_count": 33,
     "metadata": {},
     "output_type": "execute_result"
    }
   ],
   "source": [
    "#买入股票\n",
    "monthly = new_df.resample('M').first() #获取了以月份分组后每组数据的第一行数据\n",
    "cost = monthly['open'].sum() * 100\n",
    "cost"
   ]
  },
  {
   "cell_type": "code",
   "execution_count": 36,
   "metadata": {},
   "outputs": [
    {
     "data": {
      "text/plain": [
       "6802244.4"
      ]
     },
     "execution_count": 36,
     "metadata": {},
     "output_type": "execute_result"
    }
   ],
   "source": [
    "#卖出股票\n",
    "years = new_df.resample('A').last()[:-1] #获取了每年最后一个交易日对应的行数据2023年除外\n",
    "recv = years['close'].sum() * 1200\n",
    "recv"
   ]
  },
  {
   "cell_type": "code",
   "execution_count": 37,
   "metadata": {},
   "outputs": [],
   "source": [
    "#剩余股票的价值：最近一天股票的收盘价作为剩余股票的单价\n",
    "last = 500 * new_df['close'][-1]"
   ]
  },
  {
   "cell_type": "code",
   "execution_count": 38,
   "metadata": {},
   "outputs": [
    {
     "data": {
      "text/plain": [
       "730224.8000000007"
      ]
     },
     "execution_count": 38,
     "metadata": {},
     "output_type": "execute_result"
    }
   ],
   "source": [
    "#计算总收益\n",
    "last + recv - cost"
   ]
  },
  {
   "cell_type": "code",
   "execution_count": null,
   "metadata": {},
   "outputs": [],
   "source": []
  }
 ],
 "metadata": {
  "kernelspec": {
   "display_name": "Python 3 (ipykernel)",
   "language": "python",
   "name": "python3"
  },
  "language_info": {
   "codemirror_mode": {
    "name": "ipython",
    "version": 3
   },
   "file_extension": ".py",
   "mimetype": "text/x-python",
   "name": "python",
   "nbconvert_exporter": "python",
   "pygments_lexer": "ipython3",
   "version": "3.9.12"
  }
 },
 "nbformat": 4,
 "nbformat_minor": 2
}
