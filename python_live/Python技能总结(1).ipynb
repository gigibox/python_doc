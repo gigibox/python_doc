{
 "cells": [
  {
   "cell_type": "markdown",
   "metadata": {},
   "source": [
    "- python语法的重点：\n",
    "    - 数据类型\n",
    "        - 基本数据类型\n",
    "            - 数字类型，布尔类型，字符串类型\n",
    "        - 重要的数据类型\n",
    "            - 列表，元组，字典，set集合\n",
    "    - 函数\n",
    "        - 函数参数\n",
    "        - 函数返回值"
   ]
  },
  {
   "cell_type": "markdown",
   "metadata": {},
   "source": [
    "#### 练习题\n",
    "\n"
   ]
  },
  {
   "cell_type": "markdown",
   "metadata": {},
   "source": [
    "给定一个列表nums = [1, 2, 3, 4, 5]，请将列表中的每个元素都加上10，并将结果存储在一个新的列表中。"
   ]
  },
  {
   "cell_type": "code",
   "execution_count": 4,
   "metadata": {},
   "outputs": [
    {
     "name": "stdout",
     "output_type": "stream",
     "text": [
      "[11, 12, 13, 14, 15]\n"
     ]
    }
   ],
   "source": [
    "nums = [1, 2, 3, 4, 5]\n",
    "new_list = []\n",
    "\n",
    "for item in nums:\n",
    "    item += 10 #item = item + 10\n",
    "    new_list.append(item)\n",
    "print(new_list)\n",
    "    "
   ]
  },
  {
   "cell_type": "code",
   "execution_count": 5,
   "metadata": {},
   "outputs": [
    {
     "name": "stdout",
     "output_type": "stream",
     "text": [
      "[11, 12, 13, 14, 15]\n"
     ]
    }
   ],
   "source": [
    "def my_list(alist): #alist = nums\n",
    "    new_list = []\n",
    "    for item in alist:\n",
    "        item += 10\n",
    "        new_list.append(item)\n",
    "    return new_list\n",
    "\n",
    "nums = [1, 2, 3, 4, 5]\n",
    "new_list = my_list(nums)\n",
    "print(new_list)"
   ]
  },
  {
   "cell_type": "markdown",
   "metadata": {},
   "source": [
    "给定一个列表nums = [1, 2, 3, 4, 5]，请将列表中的所有元素累加，并输出结果。"
   ]
  },
  {
   "cell_type": "code",
   "execution_count": 7,
   "metadata": {},
   "outputs": [
    {
     "name": "stdout",
     "output_type": "stream",
     "text": [
      "15\n"
     ]
    }
   ],
   "source": [
    "def sumOfList(alist):\n",
    "    sum = 0 #保存列表元素累加和\n",
    "    for item in alist:\n",
    "#         sum = sum + item\n",
    "        sum += item\n",
    "    return sum\n",
    "\n",
    "nums = [1, 2, 3, 4, 5]\n",
    "ret = sumOfList(nums)\n",
    "print(ret)"
   ]
  },
  {
   "cell_type": "markdown",
   "metadata": {},
   "source": [
    "给定一个字符串string = \"Python is awesome!\"，请计算字符串中的单词数量，并输出结果。"
   ]
  },
  {
   "cell_type": "code",
   "execution_count": 10,
   "metadata": {},
   "outputs": [
    {
     "name": "stdout",
     "output_type": "stream",
     "text": [
      "6\n"
     ]
    }
   ],
   "source": [
    "string = \"Python is awesome how are you!\"\n",
    "ret = string.split(' ')\n",
    "print(len(ret))"
   ]
  },
  {
   "cell_type": "markdown",
   "metadata": {},
   "source": [
    "给定一个列表nums = [1, 2, 3, 4, 5]，请将列表中的奇数元素存储在一个新的列表中，并输出结果。"
   ]
  },
  {
   "cell_type": "code",
   "execution_count": 17,
   "metadata": {},
   "outputs": [
    {
     "name": "stdout",
     "output_type": "stream",
     "text": [
      "[1, 3, 5]\n"
     ]
    }
   ],
   "source": [
    "nums = [1, 2, 3, 4, 5]\n",
    "new_list = [] #存储nums中所有奇数\n",
    "for item in nums:\n",
    "    if item % 2 != 0:\n",
    "        new_list.append(item)\n",
    "print(new_list)"
   ]
  },
  {
   "cell_type": "markdown",
   "metadata": {},
   "source": [
    "输出1-100之间所有的奇数"
   ]
  },
  {
   "cell_type": "code",
   "execution_count": 23,
   "metadata": {},
   "outputs": [
    {
     "name": "stdout",
     "output_type": "stream",
     "text": [
      "[1, 3, 5, 7, 9, 11, 13, 15, 17, 19, 21, 23, 25, 27, 29, 31, 33, 35, 37, 39, 41, 43, 45, 47, 49, 51, 53, 55, 57, 59, 61, 63, 65, 67, 69, 71, 73, 75, 77, 79, 81, 83, 85, 87, 89, 91, 93, 95, 97, 99]\n"
     ]
    }
   ],
   "source": [
    "alist = []\n",
    "for i in range(1,101):\n",
    "    if i % 2 != 0:\n",
    "        alist.append(i)\n",
    "print(alist)"
   ]
  },
  {
   "cell_type": "markdown",
   "metadata": {},
   "source": [
    "输出1-100之间所有偶数的和"
   ]
  },
  {
   "cell_type": "code",
   "execution_count": 25,
   "metadata": {},
   "outputs": [
    {
     "name": "stdout",
     "output_type": "stream",
     "text": [
      "2550 [2, 4, 6, 8, 10, 12, 14, 16, 18, 20, 22, 24, 26, 28, 30, 32, 34, 36, 38, 40, 42, 44, 46, 48, 50, 52, 54, 56, 58, 60, 62, 64, 66, 68, 70, 72, 74, 76, 78, 80, 82, 84, 86, 88, 90, 92, 94, 96, 98, 100]\n"
     ]
    }
   ],
   "source": [
    "sum = 0 #存储所有偶数的和\n",
    "alist = []\n",
    "for i in range(1,101):\n",
    "    if i % 2 == 0:\n",
    "        alist.append(i)\n",
    "        sum += i\n",
    "print(sum,alist)"
   ]
  },
  {
   "cell_type": "markdown",
   "metadata": {},
   "source": [
    "写一个程序，输出100以内的所有偶数，直到累加和大于1000停止程序"
   ]
  },
  {
   "cell_type": "code",
   "execution_count": 33,
   "metadata": {},
   "outputs": [
    {
     "name": "stdout",
     "output_type": "stream",
     "text": [
      "1056\n"
     ]
    }
   ],
   "source": [
    "sum = 0 #保存偶数的累加和\n",
    "for i in range(1,101):\n",
    "    if i % 2 == 0:\n",
    "        if sum > 1000:\n",
    "            break\n",
    "        else:\n",
    "            sum += i\n",
    "        \n",
    "print(sum)"
   ]
  },
  {
   "cell_type": "markdown",
   "metadata": {},
   "source": [
    "已知a+b+c=1000且a^2+b^2=c^2(a,b,c都是自然数)，求出符合条件的a,b,c的所有组合。"
   ]
  },
  {
   "cell_type": "code",
   "execution_count": 34,
   "metadata": {},
   "outputs": [
    {
     "name": "stdout",
     "output_type": "stream",
     "text": [
      "0 500 500\n",
      "200 375 425\n",
      "375 200 425\n",
      "500 0 500\n"
     ]
    }
   ],
   "source": [
    "for a in range(0,1001):\n",
    "    for b in range(0,1001):\n",
    "        c = 1000 - a - b\n",
    "        if a + b + c == 1000 and a**2 + b**2 == c**2:\n",
    "            print(a,b,c)"
   ]
  },
  {
   "cell_type": "markdown",
   "metadata": {},
   "source": [
    "给定一个字符串string = \"Hello, World!\"，请统计字符串中每个字符的出现次数，并将结果存储在一个字典中。"
   ]
  },
  {
   "cell_type": "code",
   "execution_count": 36,
   "metadata": {},
   "outputs": [
    {
     "name": "stdout",
     "output_type": "stream",
     "text": [
      "{'H': 1, 'e': 1, 'l': 2, 'o': 1}\n"
     ]
    }
   ],
   "source": [
    "string = \"Hello\"\n",
    "char_count = {} #存储string这个字符串中每个字符出现的次数\n",
    "\n",
    "for char in string:\n",
    "    if char not in char_count:\n",
    "        char_count[char] = 1\n",
    "    else:\n",
    "        char_count[char] += 1\n",
    "\n",
    "print(char_count)"
   ]
  },
  {
   "cell_type": "markdown",
   "metadata": {},
   "source": [
    "将一个列表中的最大元素的小标找出"
   ]
  },
  {
   "cell_type": "code",
   "execution_count": 43,
   "metadata": {},
   "outputs": [
    {
     "name": "stdout",
     "output_type": "stream",
     "text": [
      "5\n"
     ]
    }
   ],
   "source": [
    "def max_item_index(items):#items = alist\n",
    "    max_index = 0 #假设最大元素下标为0\n",
    "    for i in range(len(items)-1): #循环次数为列表元素个数-1\n",
    "        #i的取值范围是0-1\n",
    "        if items[max_index] < items[i+1]:\n",
    "            max_index = i+1\n",
    "          \n",
    "    return max_index\n",
    "        \n",
    "alist = [3,8,5]\n",
    "ret = max_item_index(alist)\n",
    "print(ret)"
   ]
  },
  {
   "cell_type": "code",
   "execution_count": null,
   "metadata": {},
   "outputs": [],
   "source": []
  },
  {
   "cell_type": "code",
   "execution_count": null,
   "metadata": {},
   "outputs": [],
   "source": []
  },
  {
   "cell_type": "code",
   "execution_count": null,
   "metadata": {},
   "outputs": [],
   "source": []
  },
  {
   "cell_type": "code",
   "execution_count": null,
   "metadata": {},
   "outputs": [],
   "source": []
  },
  {
   "cell_type": "code",
   "execution_count": null,
   "metadata": {},
   "outputs": [],
   "source": []
  }
 ],
 "metadata": {
  "kernelspec": {
   "display_name": "Python 3 (ipykernel)",
   "language": "python",
   "name": "python3"
  },
  "language_info": {
   "codemirror_mode": {
    "name": "ipython",
    "version": 3
   },
   "file_extension": ".py",
   "mimetype": "text/x-python",
   "name": "python",
   "nbconvert_exporter": "python",
   "pygments_lexer": "ipython3",
   "version": "3.9.12"
  }
 },
 "nbformat": 4,
 "nbformat_minor": 4
}
